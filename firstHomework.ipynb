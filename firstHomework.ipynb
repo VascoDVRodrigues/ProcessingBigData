{
 "cells": [
  {
   "cell_type": "code",
   "execution_count": 75,
   "id": "35d2840e-d29d-443d-9b65-838a03aa2bff",
   "metadata": {},
   "outputs": [],
   "source": [
    "import scipy.io\n",
    "import numpy as np\n",
    "%matplotlib inline\n",
    "import matplotlib.pyplot as plt\n",
    "from sklearn.decomposition import PCA\n",
    "from numpy.linalg import matrix_rank, inv, norm\n"
   ]
  },
  {
   "cell_type": "code",
   "execution_count": 76,
   "id": "ffdae23d-1678-4a27-b5cd-e8c0d3c0e864",
   "metadata": {},
   "outputs": [],
   "source": [
    "mat = scipy.io.loadmat('girosmallveryslow2.mp4_features.mat')"
   ]
  },
  {
   "cell_type": "code",
   "execution_count": 77,
   "id": "80bcabca-4141-401e-a87a-b36dc703fd88",
   "metadata": {},
   "outputs": [],
   "source": [
    "mat = mat['features']"
   ]
  },
  {
   "cell_type": "code",
   "execution_count": 78,
   "id": "3b67c0be-8831-4702-9413-863d7bc78c23",
   "metadata": {},
   "outputs": [
    {
     "data": {
      "text/plain": [
       "(512, 10482)"
      ]
     },
     "execution_count": 78,
     "metadata": {},
     "output_type": "execute_result"
    }
   ],
   "source": [
    "mat.shape"
   ]
  },
  {
   "cell_type": "code",
   "execution_count": 79,
   "id": "d5908a84-761a-4a4f-9b3d-73399b0d06ed",
   "metadata": {},
   "outputs": [],
   "source": [
    "first = mat[:,5895:5907]\n"
   ]
  },
  {
   "cell_type": "code",
   "execution_count": 80,
   "id": "1f060810-b65f-4ab5-b059-e8f30dc90514",
   "metadata": {},
   "outputs": [
    {
     "data": {
      "text/plain": [
       "(512, 12)"
      ]
     },
     "execution_count": 80,
     "metadata": {},
     "output_type": "execute_result"
    }
   ],
   "source": [
    "first.shape"
   ]
  },
  {
   "cell_type": "code",
   "execution_count": 81,
   "id": "b228a3ec-1e36-4c3a-b6b4-07417eeb4669",
   "metadata": {},
   "outputs": [
    {
     "data": {
      "text/plain": [
       "True"
      ]
     },
     "execution_count": 81,
     "metadata": {},
     "output_type": "execute_result"
    }
   ],
   "source": [
    "matrix_rank(first) == first.shape[1]"
   ]
  },
  {
   "cell_type": "code",
   "execution_count": 82,
   "id": "f8249a96-e7e5-4cb6-a88c-aafc1881671f",
   "metadata": {},
   "outputs": [],
   "source": [
    "pi = inv(np.matmul(first.T, first))"
   ]
  },
  {
   "cell_type": "code",
   "execution_count": 83,
   "id": "f1f78345-5508-4f2f-bec8-9cf949896bb9",
   "metadata": {},
   "outputs": [],
   "source": [
    "pi = np.matmul(first, pi)\n",
    "pi = np.matmul(pi, first.T)\n"
   ]
  },
  {
   "cell_type": "code",
   "execution_count": 84,
   "id": "ea2f872f-7e7b-4a0a-ac90-65329acd791f",
   "metadata": {},
   "outputs": [
    {
     "data": {
      "text/plain": [
       "(512, 512)"
      ]
     },
     "execution_count": 84,
     "metadata": {},
     "output_type": "execute_result"
    }
   ],
   "source": [
    "pi.shape"
   ]
  },
  {
   "cell_type": "code",
   "execution_count": 85,
   "id": "47f8ca5c-f564-48de-88b6-a841660d2f72",
   "metadata": {},
   "outputs": [],
   "source": [
    "pi_orthogonal = np.eye(pi.shape[0])-pi\n"
   ]
  },
  {
   "cell_type": "code",
   "execution_count": 86,
   "id": "ddb0747f-ba31-4098-9440-adad932879b1",
   "metadata": {},
   "outputs": [
    {
     "data": {
      "text/plain": [
       "(512, 512)"
      ]
     },
     "execution_count": 86,
     "metadata": {},
     "output_type": "execute_result"
    }
   ],
   "source": [
    "pi_orthogonal.shape"
   ]
  },
  {
   "cell_type": "code",
   "execution_count": 87,
   "id": "8614e1bc-2f85-4553-8e7c-790ff8ed9052",
   "metadata": {},
   "outputs": [],
   "source": [
    "null_space_projection = np.matmul(pi_orthogonal, mat)"
   ]
  },
  {
   "cell_type": "code",
   "execution_count": 88,
   "id": "a13f83b2-1b7e-4d16-b3aa-aa1278883698",
   "metadata": {},
   "outputs": [
    {
     "data": {
      "text/plain": [
       "(512, 10482)"
      ]
     },
     "execution_count": 88,
     "metadata": {},
     "output_type": "execute_result"
    }
   ],
   "source": [
    "null_space_projection.shape"
   ]
  },
  {
   "cell_type": "code",
   "execution_count": 89,
   "id": "7ac27a17-ad87-42ed-8700-94316ae89a69",
   "metadata": {},
   "outputs": [],
   "source": [
    "null_space_projection_norm = norm(null_space_projection, axis = 0)"
   ]
  },
  {
   "cell_type": "code",
   "execution_count": 90,
   "id": "3aa5df89-18e7-4aee-961f-8dc3923779b3",
   "metadata": {},
   "outputs": [
    {
     "data": {
      "text/plain": [
       "(10482,)"
      ]
     },
     "execution_count": 90,
     "metadata": {},
     "output_type": "execute_result"
    }
   ],
   "source": [
    "null_space_projection_norm.shape"
   ]
  },
  {
   "cell_type": "code",
   "execution_count": 91,
   "id": "7a8671f8-9690-443e-974c-6390806d2753",
   "metadata": {},
   "outputs": [],
   "source": [
    "ind = np.argpartition(null_space_projection_norm, -100)[-100:]"
   ]
  },
  {
   "cell_type": "code",
   "execution_count": 92,
   "id": "63181e4e-cd91-4ac6-a16a-abc0b4c67423",
   "metadata": {},
   "outputs": [
    {
     "data": {
      "text/plain": [
       "(100,)"
      ]
     },
     "execution_count": 92,
     "metadata": {},
     "output_type": "execute_result"
    }
   ],
   "source": [
    "ind.shape"
   ]
  },
  {
   "cell_type": "code",
   "execution_count": 93,
   "id": "a5cad9a6-31a1-464b-b437-00ea2273dba9",
   "metadata": {},
   "outputs": [],
   "source": [
    "mdic = {\"a\": ind, \"label\": \"experiment\"}\n",
    "scipy.io.savemat(\"matlab_matrix_farthest.mat\", mdic)"
   ]
  },
  {
   "cell_type": "code",
   "execution_count": 94,
   "id": "8cbdf473-3543-4ed3-89fb-d30ddbe8471d",
   "metadata": {},
   "outputs": [],
   "source": [
    "farthest_images = [null_space_projection[:,i] for i in ind]\n",
    "farthest_images = np.stack(farthest_images, axis=1)\n"
   ]
  },
  {
   "cell_type": "code",
   "execution_count": 95,
   "id": "dccbe8fa-119f-43e3-89fe-ac2a592553d0",
   "metadata": {},
   "outputs": [],
   "source": [
    "ind = np.argpartition(null_space_projection_norm, 100)[:100]"
   ]
  },
  {
   "cell_type": "code",
   "execution_count": 96,
   "id": "1baf4b7b-72d6-43db-88bd-0ed703ff98c1",
   "metadata": {},
   "outputs": [
    {
     "data": {
      "text/plain": [
       "(100,)"
      ]
     },
     "execution_count": 96,
     "metadata": {},
     "output_type": "execute_result"
    }
   ],
   "source": [
    "ind.shape\n"
   ]
  },
  {
   "cell_type": "code",
   "execution_count": 97,
   "id": "5f818d1b-bcca-462b-947e-0e001a567f14",
   "metadata": {},
   "outputs": [],
   "source": [
    "mdic = {\"a\": ind, \"label\": \"experiment\"}\n",
    "scipy.io.savemat(\"matlab_matrix_closest.mat\", mdic)"
   ]
  },
  {
   "cell_type": "code",
   "execution_count": 98,
   "id": "e3fdb753-4278-4d41-b010-8fd486e761a8",
   "metadata": {},
   "outputs": [],
   "source": [
    "closest_images = [null_space_projection[:,i] for i in ind]\n",
    "closest_images = np.stack(closest_images, axis=1)"
   ]
  },
  {
   "cell_type": "code",
   "execution_count": 99,
   "id": "ca12554b-16e9-4bce-b000-dbf4361c3ddb",
   "metadata": {},
   "outputs": [
    {
     "data": {
      "text/plain": [
       "(512, 100)"
      ]
     },
     "execution_count": 99,
     "metadata": {},
     "output_type": "execute_result"
    }
   ],
   "source": [
    "farthest_images.shape\n"
   ]
  },
  {
   "cell_type": "code",
   "execution_count": 100,
   "id": "8f8f93e8-8a99-457f-8362-ec31425a617b",
   "metadata": {},
   "outputs": [
    {
     "name": "stdout",
     "output_type": "stream",
     "text": [
      "12\n"
     ]
    }
   ],
   "source": [
    "count = 0\n",
    "tolerance = 0.0001\n",
    "for i in null_space_projection_norm:\n",
    "    if i < tolerance:\n",
    "        count +=1\n",
    "print(count)"
   ]
  },
  {
   "cell_type": "code",
   "execution_count": null,
   "id": "b607f4f9-dc8b-4e7f-a46f-791dc6d4d257",
   "metadata": {},
   "outputs": [],
   "source": []
  }
 ],
 "metadata": {
  "kernelspec": {
   "display_name": "Python 3 (ipykernel)",
   "language": "python",
   "name": "python3"
  },
  "language_info": {
   "codemirror_mode": {
    "name": "ipython",
    "version": 3
   },
   "file_extension": ".py",
   "mimetype": "text/x-python",
   "name": "python",
   "nbconvert_exporter": "python",
   "pygments_lexer": "ipython3",
   "version": "3.9.10"
  }
 },
 "nbformat": 4,
 "nbformat_minor": 5
}
